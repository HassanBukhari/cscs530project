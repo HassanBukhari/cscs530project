{
 "metadata": {
  "name": "",
  "signature": "sha256:da33c57860919be6b82dc9000cad71912f4394bce0a5d850a8b5dd76c06280a4"
 },
 "nbformat": 3,
 "nbformat_minor": 0,
 "worksheets": [
  {
   "cells": [
    {
     "cell_type": "heading",
     "level": 1,
     "metadata": {},
     "source": [
      "Grade Calculator"
     ]
    },
    {
     "cell_type": "markdown",
     "metadata": {},
     "source": [
      "This notebook helps GSI's calculate course grades. It helps the reader (me) understand a way to use panda dataframes"
     ]
    },
    {
     "cell_type": "heading",
     "level": 2,
     "metadata": {},
     "source": [
      "Importing files"
     ]
    },
    {
     "cell_type": "code",
     "collapsed": false,
     "input": [
      "from __future__ import division\n",
      "\n",
      "from pandas import *\n",
      "xls = ExcelFile('gradelist.xlsx')\n",
      "df = xls.parse(xls.sheet_names[0])\n",
      "dictionary = df.to_dict()\n",
      "print df"
     ],
     "language": "python",
     "metadata": {},
     "outputs": [
      {
       "output_type": "stream",
       "stream": "stdout",
       "text": [
        "        notebook1  notebook2  notebook3  proposal  Midterm  Final\n",
        "max            20         20         20        30       70     80\n",
        "hassan         11          9          6        13       63     36\n",
        "kate            2         10          6        23       25     13\n",
        "kim            15          7         18        26       62     64\n",
        "aubrey         11          9         11        28       11     67\n"
       ]
      }
     ],
     "prompt_number": 1
    },
    {
     "cell_type": "heading",
     "level": 4,
     "metadata": {},
     "source": [
      "Functions"
     ]
    },
    {
     "cell_type": "code",
     "collapsed": false,
     "input": [
      "def lookup(name,item):\n",
      "    print name + \" scored %d\" % (dictionary[item][name])\n",
      "    print \"The mean of \" + item + \" was %d\" % (mean_item(item))\n",
      "    \n",
      "def total_score(student):\n",
      "    scores = sum(scores_by_student[student_list.index(student)])\n",
      "    return scores\n",
      "\n",
      "def mean_item(item):\n",
      "    means = sum(scores_by_item[item_list.index(item)])/len((scores_by_item[item_list.index(item)]))\n",
      "    return means\n",
      "\n",
      "def get_letter_grade(score):\n",
      "    if score >= 90:\n",
      "        return \"A\"\n",
      "    elif score >= 80:\n",
      "        return \"B\"\n",
      "    elif score >= 70:\n",
      "        return \"C\"\n",
      "    elif score >= 60:\n",
      "        return \"D\"\n",
      "    else:\n",
      "        return \"F\""
     ],
     "language": "python",
     "metadata": {},
     "outputs": [],
     "prompt_number": 2
    },
    {
     "cell_type": "heading",
     "level": 4,
     "metadata": {},
     "source": [
      "Data Manipulation"
     ]
    },
    {
     "cell_type": "code",
     "collapsed": false,
     "input": [
      "#convert dataframe to list (i dont know how to manipulate it otherwise)\n",
      "scores_by_student = map(list, df.values) #values by student\n",
      "inter = scores_by_student[1:]\n",
      "scores_by_item = map(list, zip(*inter)) #values by item without max value\n",
      "\n",
      "student_list = df.index.tolist() #row headers\n",
      "item_list = df.columns.tolist() #colum headers"
     ],
     "language": "python",
     "metadata": {},
     "outputs": [],
     "prompt_number": 33
    },
    {
     "cell_type": "heading",
     "level": 4,
     "metadata": {},
     "source": [
      "Tell students their specific grade"
     ]
    },
    {
     "cell_type": "code",
     "collapsed": false,
     "input": [
      "lookup(\"kate\",\"notebook1\")"
     ],
     "language": "python",
     "metadata": {},
     "outputs": [
      {
       "output_type": "stream",
       "stream": "stdout",
       "text": [
        "kate scored 2\n",
        "The mean of notebook1 was 9\n"
       ]
      }
     ],
     "prompt_number": 34
    },
    {
     "cell_type": "heading",
     "level": 4,
     "metadata": {},
     "source": [
      "All the results"
     ]
    },
    {
     "cell_type": "code",
     "collapsed": false,
     "input": [
      "results = []\n",
      "for student in student_list[1:]: \n",
      "    a = total_score(student)\n",
      "    b = total_score('max') - 40\n",
      "\n",
      "    c = a/b*100\n",
      "    if c>=100:\n",
      "        c = 100\n",
      "    results.append(c)\n",
      "    resultgrade = get_letter_grade(c)\n",
      "    print student + \": Final Grade \" + resultgrade + \", Total score %d , percentage- %d\" % (total_score(student), c)\n",
      "    print "
     ],
     "language": "python",
     "metadata": {},
     "outputs": [
      {
       "output_type": "stream",
       "stream": "stdout",
       "text": [
        "hassan: Final Grade D, Total score 138 , percentage- 69\n",
        "\n",
        "kate: Final Grade F, Total score 79 , percentage- 39\n",
        "\n",
        "kim: Final Grade A, Total score 192 , percentage- 96\n",
        "\n",
        "aubrey: Final Grade D, Total score 137 , percentage- 68\n",
        "\n"
       ]
      }
     ],
     "prompt_number": 35
    },
    {
     "cell_type": "heading",
     "level": 3,
     "metadata": {},
     "source": [
      "Calculate Curve - not implemented"
     ]
    }
   ],
   "metadata": {}
  }
 ]
}