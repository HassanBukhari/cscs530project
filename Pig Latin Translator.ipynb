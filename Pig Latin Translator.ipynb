{
 "metadata": {
  "name": "",
  "signature": "sha256:2318f42008cfe230a5017b5d77ebb80fc157cbe2478b31030ba39ea689e4b8e6"
 },
 "nbformat": 3,
 "nbformat_minor": 0,
 "worksheets": [
  {
   "cells": [
    {
     "cell_type": "heading",
     "level": 1,
     "metadata": {},
     "source": [
      "Pig Latin \n"
     ]
    },
    {
     "cell_type": "markdown",
     "metadata": {},
     "source": [
      "I have been working through the code academy tutorials, came across a simple pig latin translator for a single word and created a more general version as a notebook"
     ]
    },
    {
     "cell_type": "markdown",
     "metadata": {},
     "source": [
      "Pig latin is a simple way to convert text into a slightly codified form.  \n",
      "\n",
      "Pig Latin takes the first consonant (or consonant cluster) of an English word, moves it to the end of the word and suffixes an ay, or if a word begins with a vowel just adds way to the end."
     ]
    },
    {
     "cell_type": "heading",
     "level": 6,
     "metadata": {},
     "source": [
      "Choose a suffix"
     ]
    },
    {
     "cell_type": "code",
     "collapsed": false,
     "input": [
      "suffix = raw_input('Enter the suffix:')\n",
      "\n",
      "if len(suffix) > 0 and suffix.isalpha():\n",
      "    print 'suffix is: ' + suffix\n",
      "else:\n",
      "    print 'that was empty, default value suffix \"ay\" chosen.'\n",
      "    suffix = 'ay'"
     ],
     "language": "python",
     "metadata": {},
     "outputs": [
      {
       "name": "stdout",
       "output_type": "stream",
       "stream": "stdout",
       "text": [
        "Enter the suffix:ay\n"
       ]
      },
      {
       "output_type": "stream",
       "stream": "stdout",
       "text": [
        "suffix is: ay\n"
       ]
      }
     ],
     "prompt_number": 1
    },
    {
     "cell_type": "heading",
     "level": 5,
     "metadata": {},
     "source": [
      "Robber Language"
     ]
    },
    {
     "cell_type": "markdown",
     "metadata": {},
     "source": [
      "In some forms of language coding such as the robber language, the vowels are doubles. The following sections allow the user to add this. \n",
      "\n",
      "This will be processed first. "
     ]
    },
    {
     "cell_type": "heading",
     "level": 6,
     "metadata": {},
     "source": [
      "Do you want to double vowels?"
     ]
    },
    {
     "cell_type": "code",
     "collapsed": false,
     "input": [
      "double_vowels = int(raw_input(\"1 for Yes, 0 for No:\"))\n",
      "for i in range(double_vowels):\n",
      "    if (double_vowels != 0 and double_vowels != 1):\n",
      "        print \"Invalid input\"\n",
      "        double_vowels = int(raw_input(\"1 for Yes, 0 for No:\"))\n",
      "print double_vowels"
     ],
     "language": "python",
     "metadata": {},
     "outputs": [
      {
       "name": "stdout",
       "output_type": "stream",
       "stream": "stdout",
       "text": [
        "1 for Yes, 0 for No:0\n"
       ]
      },
      {
       "output_type": "stream",
       "stream": "stdout",
       "text": [
        "0\n"
       ]
      }
     ],
     "prompt_number": 7
    },
    {
     "cell_type": "heading",
     "level": 6,
     "metadata": {},
     "source": [
      "Do you want to double consonants?"
     ]
    },
    {
     "cell_type": "code",
     "collapsed": false,
     "input": [
      "double_consonants = int(raw_input(\"1 for Yes, 0 for No:\"))\n",
      "for i in range(double_consonants):\n",
      "    if (double_consonants != 0 and double_consonants != 1):\n",
      "        print \"Invalid input\"\n",
      "        double_consonants = int(raw_input(\"1 for Yes, 0 for No:\"))"
     ],
     "language": "python",
     "metadata": {},
     "outputs": [
      {
       "name": "stdout",
       "output_type": "stream",
       "stream": "stdout",
       "text": [
        "1 for Yes, 0 for No:1\n"
       ]
      }
     ],
     "prompt_number": 3
    },
    {
     "cell_type": "heading",
     "level": 2,
     "metadata": {},
     "source": [
      "Code Run"
     ]
    },
    {
     "cell_type": "code",
     "collapsed": false,
     "input": [
      "vowels = ('a','e','i','o','u')\n",
      "\n",
      "def wordwise(word):    \n",
      "    first = word[0] # selects first letter\n",
      "    if first in vowels: \n",
      "        return word + 'h' + suffix\n",
      "    else:\n",
      "        return word[1:] + word[0] + suffix\n",
      "    \n",
      "def sentencewise(sentence, double_vowels, double_consonants):\n",
      "    if double_consonants:\n",
      "        sentence = con_double(sentence)\n",
      "    if double_vowels:\n",
      "        sentence = vow_double(sentence)\n",
      "    splitsentence  = sentence.split(' ')\n",
      "    pig_sentence = \"\"\n",
      "    for word in splitsentence:\n",
      "        pig_sentence = pig_sentence + wordwise(word)\n",
      "        pig_sentence = pig_sentence + \" \"\n",
      "    return pig_sentence\n",
      "    \n",
      "def con_double(word):\n",
      "    consonants = 'qwrtypsdfghjklzxcvbnm'\n",
      "    for x in consonants:\n",
      "        old = x\n",
      "        new = x + x\n",
      "        word = word.replace(old,new)\n",
      "    return word\n",
      "\n",
      "def vow_double(word):\n",
      "    vowels = 'aeiou'\n",
      "    for x in vowels:\n",
      "        old = x\n",
      "        new = x + x\n",
      "        word = word.replace(old,new)\n",
      "    return word"
     ],
     "language": "python",
     "metadata": {},
     "outputs": [],
     "prompt_number": 10
    },
    {
     "cell_type": "heading",
     "level": 3,
     "metadata": {},
     "source": [
      "Code Run"
     ]
    },
    {
     "cell_type": "markdown",
     "metadata": {},
     "source": [
      "Enter paragraph here\n",
      "\n",
      "(note doubling consonants will leave a consonant at the start of the word)\n",
      "\n",
      "You can try:\n",
      "\n",
      "how now brown cow\n",
      "\n",
      "help\n",
      "\n",
      "the big fox jumped over the lazy dog"
     ]
    },
    {
     "cell_type": "code",
     "collapsed": false,
     "input": [
      "paragraph = raw_input('Enter Paragraph for translation:')\n",
      "print sentencewise(paragraph, double_vowels, double_consonants)"
     ],
     "language": "python",
     "metadata": {},
     "outputs": [
      {
       "name": "stdout",
       "output_type": "stream",
       "stream": "stdout",
       "text": [
        "Enter Paragraph for translation:hello\n"
       ]
      },
      {
       "output_type": "stream",
       "stream": "stdout",
       "text": [
        "hellllohay \n"
       ]
      }
     ],
     "prompt_number": 11
    }
   ],
   "metadata": {}
  }
 ]
}