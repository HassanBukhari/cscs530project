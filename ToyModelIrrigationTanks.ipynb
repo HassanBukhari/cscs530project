{
 "metadata": {
  "name": "",
  "signature": "sha256:00f4f246591be53f03546b1e7d895d6f0b108a0fd940a8736a6f4385e2cfeb79"
 },
 "nbformat": 3,
 "nbformat_minor": 0,
 "worksheets": [
  {
   "cells": [
    {
     "cell_type": "heading",
     "level": 1,
     "metadata": {},
     "source": [
      "Optimizing Irrigation Tank De silting Operations"
     ]
    },
    {
     "cell_type": "markdown",
     "metadata": {},
     "source": [
      "Course Project: CMPLXSYS 530 |\n",
      "Author: Hassan Bukhari THIS IS A TEST"
     ]
    },
    {
     "cell_type": "heading",
     "level": 2,
     "metadata": {},
     "source": [
      "Background"
     ]
    },
    {
     "cell_type": "markdown",
     "metadata": {},
     "source": [
      "Minor irrigation ponds are man-made banked earth structures designed to capture rainwater that constitute a major source of irrigation water in South Indian villages. De-silting of these ponds, usually done in the dry season, is necessary to keep up the water storage capacity and has the added benefit of providing a source of nutrient rich silt, which can be applied to agricultural land to improve soil fertility.\n",
      "\n",
      "This project aims to guide the operational execution of silt application on farmer land. It will be executed by hiring fleets of tractors and providing silt to farmers. Selecting villages can be done over many criteria. The tractors can target villages based on: maximum current demand for silt, maximum opportunity for increase in productivity, villages with the maximum agricultural land, villages spatially closest to other villages etc.\n",
      "\n",
      "Applying silt increases farm output, which increases the demand of silt in the area. The model will track the long term difference in \n",
      "1) change in productivity, 2) change in total production, 3) total acres of silt applied, 4) total paid by farmers to tractors"
     ]
    },
    {
     "cell_type": "heading",
     "level": 2,
     "metadata": {},
     "source": [
      "I. Space"
     ]
    },
    {
     "cell_type": "markdown",
     "metadata": {},
     "source": [
      "The state of Telangana has 11,000 villages spread across the XX acres of land. Between them the villages have XX acres in cotton production. Our focus is only on the acres that are farming cotton. \n",
      "\n",
      "To capture these on the ground charachteristics in a simplified manner the state is modelled by a 10 x 10 grid.\n",
      "This gives a total area of 100 units. 11 villages are placed in this space and the total cotton acres distributed amongst them are XX\n",
      "\n",
      "There are two spaces similar spaces, one to place the villages and one for the tractors to move in. "
     ]
    },
    {
     "cell_type": "heading",
     "level": 2,
     "metadata": {},
     "source": [
      "II. Agents"
     ]
    },
    {
     "cell_type": "heading",
     "level": 4,
     "metadata": {},
     "source": [
      "A - Villages"
     ]
    },
    {
     "cell_type": "markdown",
     "metadata": {},
     "source": [
      "Each village is placed at a permanent random location at the start of the simulation. The people living in the villages are farmers and own the land surrounding the village. For simplicity, I will assume that the village representation in the model is both the land and the farmers. \n",
      "\n",
      "Due to the varying quality of soil, water availability, access to information, seed choice, spending on fertilizers and pesticides the villages have different productivity of cotton ranging from 400 kg per acre to 800 kg per acre. Each village will be randomly assigned a base productivity at the start of the simulation. Each village will also be assigned an amount of land that they farm. Each village also has an irrigation tank that they use for watering their crops. Each tank has a different quality of silt, which depends on the upstream catchement - and not the local soil. This quality will be assigned randonly as well (although there is spatial relation to other villages).  \n",
      "\n",
      "\n",
      "After the Green Revolution, farmers moved from using the silt - the only source of fertilizer at that time to artificial fertilizers. This led to a huge increase in productiviy coupled with a large increase in input costs with the new equilibrium being the more artificial input intensive way of farming. Although it was used centuries ago, the use of silt has been disontinued and even if a village stands to benefit from application - farmers will only demand it if they have seen some benefit in the recent past or have heard about it. Each village will be given some early adopters who will demand silt. Applying silt will increase the productivity of their land, based on the quality of the land - therebey increasing demand in this and nearby villages.\n",
      "\n",
      "In summary village parameters consist of:\n",
      "\n",
      "Constant parameters \n",
      "1. base_yield: Base cotton yield (in kg per acre)\n",
      "2. cotton_acres: Acres under cotton production (in acres)\n",
      "3. silt_quality: Quality of silt in irrigation tank (in multiplier increase from baseline yield ranging from 1.0 - 2.0)\n",
      "\n",
      "Variable Parameters\n",
      "4. silt_acres: Acres on which silt has been applied\n",
      "5. inc_prod: Increase in cotton productivity on treatment acres\n",
      "6. silt_demand: Silt demanded (random initial number - grows due to increase in productivity)"
     ]
    },
    {
     "cell_type": "heading",
     "level": 4,
     "metadata": {},
     "source": [
      "B - Tractor fleets"
     ]
    },
    {
     "cell_type": "markdown",
     "metadata": {},
     "source": [
      "20 tractors are need to keep a digger in constant operation. Therefore each tractor fleet consists of 20 tractors. The fleet has a base lease cost of Rs. 600,000 per month. Each fleet can apply silt to 10 acres in one day.  There is a variable cost of Rs. XX per acre because of fuel costs. Initially, I was going to incorporate costs - but I think it is better to keep it constant. The assumption is to see the \n",
      "\n",
      "Variable number of tractor fleets will be used. \n",
      "\n",
      "Tractors want to maximimze the payments that they get during the simulation. They recieve payments upfront for each acre that they apply silt on and additional performance based payments depending on the increase in productivity. Initially this will just depend on the change in productivity though later some stochasticity may be introduced to simulate floods or droughts.  "
     ]
    },
    {
     "cell_type": "heading",
     "level": 2,
     "metadata": {},
     "source": [
      "III. Model"
     ]
    },
    {
     "cell_type": "heading",
     "level": 4,
     "metadata": {},
     "source": [
      "A - Model Step"
     ]
    },
    {
     "cell_type": "markdown",
     "metadata": {},
     "source": [
      "There are 3 months of dry season during which tractors can transport silt from the tanks to nearby farms. They must stay in one grid location for atleast one month to minimize overhead and supervisory costs. For three time steps the tractors will apply silt and at the end of a step will be allowed to move. Each time step is representative of a month. At the end of the dry season the villagers will grow cotton and benefit from the cumulative silt applied during the previous three steps. At this point the new silt demand will be calculated. The tractors can now initialize in a new place of their choosing (a new fleet will be hired, and so can be hired anywhere) and then move around for three more timesteps and the process repeats for five years."
     ]
    },
    {
     "cell_type": "code",
     "collapsed": false,
     "input": [
      "%matplotlib inline\n",
      "\n",
      "# Imports\n",
      "import copy\n",
      "import itertools\n",
      "\n",
      "import numpy\n",
      "import scipy\n",
      "import matplotlib.pyplot as plt\n",
      "import pandas\n",
      "import seaborn; seaborn.set()\n",
      "\n",
      "numpy.set_printoptions(threshold='nan')\n",
      "\n",
      "# Import widget methods\n",
      "from IPython.html.widgets import *\n",
      "from matplotlib.widgets import Slider, Button, RadioButtons"
     ],
     "language": "python",
     "metadata": {},
     "outputs": [],
     "prompt_number": 10
    },
    {
     "cell_type": "code",
     "collapsed": false,
     "input": [],
     "language": "python",
     "metadata": {},
     "outputs": [],
     "prompt_number": 10
    },
    {
     "cell_type": "heading",
     "level": 3,
     "metadata": {},
     "source": [
      "Village Class"
     ]
    },
    {
     "cell_type": "code",
     "collapsed": false,
     "input": [
      "class Village(object):\n",
      "    \"\"\"\n",
      "    Village class determines the behaviour of the village.\n",
      "    \"\"\"\n",
      "    def __init__(self, model, village_id, silt_applied = False, cotton_acres = 100, base_yield = 5.0, \n",
      "                                        silt_quality = 1.5, silt_acres = 10, inc_prod = 1, base_silt_demand = 0.05,  total_silt_demand = 0.05): \n",
      "        # Set model link and ID\n",
      "        self.model = model\n",
      "        self.village_id = village_id\n",
      "       \n",
      "        self.silt_applied = silt_applied\n",
      "        \n",
      "        #randomized static variables\n",
      "        self.cotton_acres = cotton_acres #10% = 0, 90% = 100 to 1000 (acres per village) \n",
      "        self.base_yield = base_yield     #4 to 6 (100s of kg per acre)\n",
      "        self.silt_quality = silt_quality #10% = 0, 90% = 1.0 to 2.0 (multiplier)\n",
      "        self.base_silt_demand = base_silt_demand # 0.0 - 0.05 multiplier \n",
      "        # 10%/ 90% distribution is villages where cotton is not grown or the silt pH is too high. User can change distribution.\n",
      "        \n",
      "        #dynamic Variables\n",
      "        self.silt_acres = silt_acres #acres on which silt has been applied\n",
      "        self.inc_prod = self.silt_acres * self.silt_quality\n",
      "        \n",
      "        \"\"\"\n",
      "        # (i need to calculate this based on the neighboring villages not just this one, every three iterations) \n",
      "        \n",
      "        def decide_silt\n",
      "        decide how much silt a village demands\n",
      "        \n",
      "        self.silt_demand = self.base_silt_demand * self.cotten_acres + 0.1 * neighbor contribution\n",
      "        \"\"\" \n",
      "        \n",
      "        \n",
      "        "
     ],
     "language": "python",
     "metadata": {},
     "outputs": [],
     "prompt_number": 11
    },
    {
     "cell_type": "heading",
     "level": 3,
     "metadata": {},
     "source": [
      "Tractor Class"
     ]
    },
    {
     "cell_type": "code",
     "collapsed": false,
     "input": [
      "class Tractor(object):\n",
      "    \"\"\"\n",
      "    Tractor class which determines the behaviour of the village.\n",
      "    \"\"\"\n",
      "    \n",
      "    def __init__(self, model, tractor_id):\n",
      "        # Set model link and ID\n",
      "        self.model = model\n",
      "        self.tractor_id = tractor_id"
     ],
     "language": "python",
     "metadata": {},
     "outputs": [],
     "prompt_number": 12
    },
    {
     "cell_type": "code",
     "collapsed": false,
     "input": [],
     "language": "python",
     "metadata": {},
     "outputs": [],
     "prompt_number": 12
    },
    {
     "cell_type": "heading",
     "level": 3,
     "metadata": {},
     "source": [
      "Model Class"
     ]
    },
    {
     "cell_type": "code",
     "collapsed": false,
     "input": [
      "class Model(object):\n",
      "    \n",
      "    def __init__(self, grid_size, num_villages, num_tractors):\n",
      "    \n",
      "        #set model Parameters\n",
      "        self.grid_size = grid_size\n",
      "        self.num_villages = num_villages\n",
      "        self.num_tractors = num_tractors\n",
      "    \n",
      "        #set state variables\n",
      "        self.t = 0\n",
      "        self.space = numpy.array((0,0))\n",
      "        self.tractorspace = numpy.array((0,0))\n",
      "        self.villages = []\n",
      "        self.tractors = []\n",
      "        self.num_applied = 0\n",
      "    \n",
      "        #set history variables\n",
      "        self.history_space = []\n",
      "        self.history_tractorspace = []\n",
      "        self.history_space_applied = []\n",
      "    \n",
      "        #call setup methods to initialize things\n",
      "        self.setup_space()\n",
      "        self.setup_tractorspace()\n",
      "        self.setup_villages()\n",
      "        self.setup_tractors()\n",
      "    \n",
      "    def setup_space(self):\n",
      "        \"\"\"\n",
      "        Method to setup our space.\n",
      "        \"\"\"\n",
      "        # Initialize a space with a NaN's\n",
      "        self.space = numpy.full((self.grid_size, self.grid_size), numpy.nan)\n",
      "\n",
      "    def setup_tractorspace(self):\n",
      "        \"\"\"\n",
      "        Method to setup our tractor space.\n",
      "        \"\"\"\n",
      "        # Initialize a space with a NaN's\n",
      "        self.tractorspace = numpy.full((self.grid_size, self.grid_size), numpy.nan)\n",
      "\n",
      "    def setup_villages(self):\n",
      "        \"\"\"\n",
      "        Method to setup our space.\n",
      "        \"\"\"\n",
      "        # First, begin by creating all agents without placing them.\n",
      "        for i in xrange(self.num_villages):\n",
      "            self.villages.append(Village(model=self,\n",
      "                                          village_id=i,\n",
      "                                          silt_applied=False,\n",
      "                                          cotton_acres = numpy.random.randint(100,1000), \n",
      "                                          base_yield = numpy.random.randint(4,6), \n",
      "                                          silt_quality = numpy.random.uniform(1,2), \n",
      "                                          silt_acres = numpy.random.randint(1,10), \n",
      "                                          inc_prod = 1, \n",
      "                                          base_silt_demand = numpy.random.uniform(0.0,0.10),  \n",
      "                                          total_silt_demand = 0.05))\n",
      "\n",
      "            \n",
      "        # Second, once created, place them into the space.\n",
      "        for village in self.villages:\n",
      "            # Loop until unique\n",
      "            is_occupied = True\n",
      "            while is_occupied:\n",
      "                # Sample location\n",
      "                random_x = numpy.random.randint(0, self.grid_size)\n",
      "                random_y = numpy.random.randint(0, self.grid_size)\n",
      "                \n",
      "                # Check if unique\n",
      "                if numpy.isnan(self.space[random_x, random_y]):\n",
      "                    is_occupied = False\n",
      "                else:\n",
      "                    is_occupied = True\n",
      "            \n",
      "            # Now place the person there by setting their ID.\n",
      "            self.space[random_x, random_y] = village.village_id\n",
      "     \n",
      "     \n",
      "    def setup_tractors(self):\n",
      "        # First, begin by creating all agents without placing them.\n",
      "        for i in xrange(self.num_tractors):\n",
      "            self.tractors.append(Tractor(model=self,\n",
      "                                      tractor_id=i))\n",
      "                                    \n",
      "        \n",
      "        # Second, once created, place them into the space.\n",
      "        for tractor in self.tractors:\n",
      "            # Loop until unique\n",
      "            is_occupied = True\n",
      "            while is_occupied:\n",
      "                # Sample location\n",
      "                random_x = numpy.random.randint(0, self.grid_size)\n",
      "                random_y = numpy.random.randint(0, self.grid_size)\n",
      "                \n",
      "                # Check if unique\n",
      "                if numpy.isnan(self.tractorspace[random_x, random_y]):\n",
      "                    is_occupied = False\n",
      "                else:\n",
      "                    is_occupied = True\n",
      "            \n",
      "            # Now place the person there by setting their ID.\n",
      "            self.tractorspace[random_x, random_y] = tractor.tractor_id\n",
      "    \n",
      "    def get_neighborhood(self, x, y, distance=1):\n",
      "        \"\"\"\n",
      "        Get a Moore neighborhood of distance from (x, y).\n",
      "        \"\"\"\n",
      "        neighbor_pos = [ ( x % self.grid_size, y % self.grid_size)\n",
      "                                for x, y in itertools.product(xrange(x-distance, x+distance+1),\n",
      "                                xrange(y-distance, y+distance+1))]\n",
      "        return neighbor_pos\n",
      "    \n",
      "    def get_neighbors(self, x, y, distance=1):\n",
      "        \"\"\"\n",
      "        Get any neighboring persons within distance from (x, y).\n",
      "        \"\"\"\n",
      "        neighbor_pos = self.get_neighborhood(x, y, distance)\n",
      "        neighbor_list = []\n",
      "        for pos in neighbor_pos:\n",
      "            # Skip identity\n",
      "            if pos[0] == x and pos[1] == y:\n",
      "                continue\n",
      "                \n",
      "            # Check if empty\n",
      "            if not numpy.isnan(self.space[pos[0], pos[1]]):\n",
      "                neighbor_list.append(int(self.space[pos[0], pos[1]]))\n",
      "        \n",
      "        return neighbor_list            \n",
      "                   \n",
      "    def get_village_position(self, village_id):\n",
      "        \"\"\"\n",
      "        Get the position of a tractor based on its ID.\n",
      "        \"\"\"\n",
      "        # Find the value that matches our ID in self.space, then reshape to a 2-element list.\n",
      "        return numpy.reshape(numpy.where(m.space == village_id), (1, 2))[0].tolist()\n",
      "        \n",
      "    def get_tractor_position(self, tractor_id):\n",
      "        \"\"\"\n",
      "        Get the position of a tractor based on its ID.\n",
      "        \"\"\"\n",
      "        # Find the value that matches our ID in self.space, then reshape to a 2-element list.\n",
      "        return numpy.reshape(numpy.where(m.tractorspace == tractor_id), (1, 2))[0].tolist()\n",
      "\n",
      "    def get_tractor_neighbors(self, tractor_id, distance=1):\n",
      "        \"\"\"\n",
      "        Get the position of a person based on their ID.\n",
      "        \"\"\"\n",
      "        # Find the value that matches our ID in self.space, then reshape to a 2-element list.\n",
      "        x, y = self.get_tractor_position(tractor_id)\n",
      "        return self.get_neighbors(x, y, distance)   \n",
      "            \n",
      "    def move_tractor(self, tractor_id, x, y):\n",
      "        \"\"\"\n",
      "        Move a tractor to a new (x, y) location as in function.\n",
      "        \"\"\"\n",
      "        # Get original position\n",
      "        original_position = self.get_tractor_position(tractor_id)\n",
      "            \n",
      "        # Check target location\n",
      "        if not numpy.isnan(self.tractorspace[x, y]):\n",
      "           raise ValueError(\"Unable to move tractor {0} to ({1}, {2}) since occupied.\".format(tractor_id, x, y))\n",
      "       \n",
      "        # Otherwise, move by emptying and setting.\n",
      "        self.tractorspace[original_position[0], original_position[1]] = numpy.nan\n",
      "        self.tractorspace[x, y] = tractor_id\n",
      "   \n",
      "    def step_move(self):\n",
      "        \"\"\"\n",
      "        Model step move function, which handles moves tractors randomly.\n",
      "        \"\"\"\n",
      "        \n",
      "        # Get a random order for the agents.\n",
      "        random_order = range(self.num_tractors)\n",
      "        numpy.random.shuffle(random_order)\n",
      "        \n",
      "        # Iterate in random order.\n",
      "        for i in random_order:\n",
      "            # Get current position\n",
      "            x, y = self.get_tractor_position(i)\n",
      "            \n",
      "            # Move our agent between -1, 0, +1 in each dimension (wraps)\n",
      "            x_new = (x + numpy.random.randint(-1, 2)) % self.grid_size\n",
      "            y_new = (y + numpy.random.randint(-1, 2)) % self.grid_size\n",
      "            \n",
      "            # Try to move them\n",
      "            try:\n",
      "                self.move_tractor(i, x_new, y_new)\n",
      "            except ValueError:\n",
      "                # Occupied, so fail.\n",
      "                pass\n",
      "    \n",
      "    def step_interact(self):\n",
      "        \"\"\" Interact: tractors apply silt on villages they pass by\"\"\"\n",
      "        \n",
      "        # Get a random order for the agents.\n",
      "        random_order = range(self.num_tractors)\n",
      "        numpy.random.shuffle(random_order)\n",
      "       \n",
      "        # Iterate in random order.\n",
      "        for i in random_order:\n",
      "            # Get neighbors\n",
      "            neighbors = self.get_tractor_neighbors(i)\n",
      "            \n",
      "            # Iterate over neighbors\n",
      "            for neighbor in neighbors:\n",
      "                self.villages[neighbor].silt_applied = True\n",
      "                \n",
      "    def step(self):\n",
      "        \"\"\"Model step function\"\"\"\n",
      "        self.step_interact()\n",
      "        self.step_move()\n",
      "        \n",
      "        self.t += 1\n",
      "        self.history_space_applied.append(self.get_space_applied()) \n",
      "        \n",
      "    def get_space_applied(self, t=None):\n",
      "        \"\"\"\n",
      "        Return a projection of the space that shows which cells have an infected person.\n",
      "        \"\"\"\n",
      "        if t == None:\n",
      "            # Initialize empty\n",
      "            applied_space = numpy.zeros_like(self.space)\n",
      "            \n",
      "            # Iterate over villages and set.\n",
      "            for p in self.villages:\n",
      "                x, y = self.get_village_position(p.village_id)\n",
      "                if p.silt_applied:\n",
      "                    applied_space[x, y] = +1\n",
      "                else:\n",
      "                    applied_space[x, y] = -1\n",
      "            # Return\n",
      "            return applied_space\n",
      "        else:\n",
      "            # Return historical step\n",
      "            return self.history_space_applied[t]        "
     ],
     "language": "python",
     "metadata": {},
     "outputs": [],
     "prompt_number": 20
    },
    {
     "cell_type": "code",
     "collapsed": false,
     "input": [
      "m = Model(grid_size = 10, num_villages = 5, num_tractors = 2)"
     ],
     "language": "python",
     "metadata": {},
     "outputs": [],
     "prompt_number": 16
    },
    {
     "cell_type": "heading",
     "level": 3,
     "metadata": {},
     "source": [
      "Visualizing Villages and initial tractors in Space"
     ]
    },
    {
     "cell_type": "code",
     "collapsed": false,
     "input": [
      "# Step over the model for a few steps\n",
      "for i in xrange(4):\n",
      "    # Step\n",
      "    m.step()"
     ],
     "language": "python",
     "metadata": {},
     "outputs": [],
     "prompt_number": 17
    },
    {
     "cell_type": "code",
     "collapsed": false,
     "input": [
      "villagevisual = scipy.sign(m.space + 1)\n",
      "tractorvisual = scipy.sign(m.tractorspace + 1)\n",
      "plt.imshow(villagevisual, cmap='ocean',  interpolation='nearest')\n",
      "plt.imshow(tractorvisual, cmap='hot',  interpolation='nearest')\n",
      "plt.gca().invert_yaxis()"
     ],
     "language": "python",
     "metadata": {},
     "outputs": [
      {
       "metadata": {},
       "output_type": "display_data",
       "png": "[encoded data removed]",
       "text": [
        "<matplotlib.figure.Figure at 0x37b9f60>"
       ]
      }
     ],
     "prompt_number": 18
    },
    {
     "cell_type": "code",
     "collapsed": false,
     "input": [],
     "language": "python",
     "metadata": {},
     "outputs": [],
     "prompt_number": 19
    },
    {
     "cell_type": "code",
     "collapsed": false,
     "input": [],
     "language": "python",
     "metadata": {},
     "outputs": [],
     "prompt_number": 12
    }
   ],
   "metadata": {}
  }
 ]
}